{
  "nbformat": 4,
  "nbformat_minor": 0,
  "metadata": {
    "colab": {
      "provenance": [],
      "authorship_tag": "ABX9TyP4iCxaH5Ntk+QlENYB4DkR",
      "include_colab_link": true
    },
    "kernelspec": {
      "name": "python3",
      "display_name": "Python 3"
    },
    "language_info": {
      "name": "python"
    }
  },
  "cells": [
    {
      "cell_type": "markdown",
      "metadata": {
        "id": "view-in-github",
        "colab_type": "text"
      },
      "source": [
        "<a href=\"https://colab.research.google.com/github/samridz8/GammaBeta-np-/blob/main/Gamma%26Beta.ipynb\" target=\"_parent\"><img src=\"https://colab.research.google.com/assets/colab-badge.svg\" alt=\"Open In Colab\"/></a>"
      ]
    },
    {
      "cell_type": "code",
      "execution_count": null,
      "metadata": {
        "colab": {
          "base_uri": "https://localhost:8080/"
        },
        "id": "bjJsbrn_Rcgw",
        "outputId": "2a144c10-c318-4fe8-951b-5750b3efa152"
      },
      "outputs": [
        {
          "output_type": "stream",
          "name": "stdout",
          "text": [
            "1\n"
          ]
        }
      ],
      "source": [
        "from sympy import *\n",
        "x = symbols('x')\n",
        "w1 = integrate(exp(-x),(x,0,float('inf')))\n",
        "print(simplify(w1))"
      ]
    },
    {
      "cell_type": "code",
      "source": [
        "from sympy import *\n",
        "x = symbols('x')\n",
        "w1 = integrate(exp(-x)*x**4,(x,0,float('inf')))\n",
        "print(simplify(w1))"
      ],
      "metadata": {
        "colab": {
          "base_uri": "https://localhost:8080/"
        },
        "id": "mhblQOUKXJdG",
        "outputId": "f8e380a4-d971-4134-eb86-fb753f5b1557"
      },
      "execution_count": null,
      "outputs": [
        {
          "output_type": "stream",
          "name": "stdout",
          "text": [
            "24\n"
          ]
        }
      ]
    },
    {
      "cell_type": "code",
      "source": [
        "from sympy import *\n",
        "t,s = symbols('t,s')\n",
        "w1 = integrate(exp(-s*t)*cos(4*t),(t,0,oo))\n",
        "display(simplify(w1))"
      ],
      "metadata": {
        "colab": {
          "base_uri": "https://localhost:8080/",
          "height": 83
        },
        "id": "-evsCs-4YwHA",
        "outputId": "a0d3d671-d17d-4a0b-e844-754e7035dd82"
      },
      "execution_count": null,
      "outputs": [
        {
          "output_type": "display_data",
          "data": {
            "text/plain": [
              "Piecewise((s/(s**2 + 16), Abs(arg(s)) < pi/2), (Integral(exp(-s*t)*cos(4*t), (t, 0, oo)), True))"
            ],
            "text/latex": "$\\displaystyle \\begin{cases} \\frac{s}{s^{2} + 16} & \\text{for}\\: \\left|{\\arg{\\left(s \\right)}}\\right| < \\frac{\\pi}{2} \\\\\\int\\limits_{0}^{\\infty} e^{- s t} \\cos{\\left(4 t \\right)}\\, dt & \\text{otherwise} \\end{cases}$"
          },
          "metadata": {}
        }
      ]
    },
    {
      "cell_type": "code",
      "source": [
        "from sympy import beta, gamma\n",
        "m = input('m :')\n",
        "n = input('n :')\n",
        "m = float(m)\n",
        "n = float(n)\n",
        "\n",
        "s = beta(m,n)\n",
        "t = gamma(n)\n",
        "print('gamma = (',n,') is %3.3f'%t)\n",
        "print('beta = (',m,n,') is %3.3f'%s)"
      ],
      "metadata": {
        "colab": {
          "base_uri": "https://localhost:8080/"
        },
        "id": "sKLRQHo8Z3Df",
        "outputId": "0ed9c1e9-b6c0-4a55-bd8a-f8656b9b1c95"
      },
      "execution_count": null,
      "outputs": [
        {
          "output_type": "stream",
          "name": "stdout",
          "text": [
            "m :3\n",
            "n :5\n",
            "gamma = ( 5.0 ) is 24.000\n",
            "beta = ( 3.0 5.0 ) is 0.010\n"
          ]
        }
      ]
    },
    {
      "cell_type": "code",
      "source": [
        "from sympy import beta, gamma\n",
        "m = input('m :')\n",
        "n = input('n :')\n",
        "s = beta(m,n)\n",
        "t = gamma(m)\n",
        "print('gamma = (',m,') is %3.3f'%t)\n",
        "print('beta = (',m,n,') is %3.3f'%s)"
      ],
      "metadata": {
        "colab": {
          "base_uri": "https://localhost:8080/"
        },
        "id": "YNbxElukcIfe",
        "outputId": "11186973-404e-4256-c5bf-105e0cbe1b89"
      },
      "execution_count": null,
      "outputs": [
        {
          "output_type": "stream",
          "name": "stdout",
          "text": [
            "m :2.5\n",
            "n :3.5\n",
            "gamma = ( 2.5 ) is 1.329\n",
            "beta = ( 2.5 3.5 ) is 0.037\n"
          ]
        }
      ]
    },
    {
      "cell_type": "code",
      "source": [
        "from sympy import beta, gamma\n",
        "m = 5\n",
        "n = 7\n",
        "m = float(m)\n",
        "n = float(n)\n",
        "s = beta(m,n)\n",
        "t = (gamma(m)*gamma(n))/gamma(m+n)\n",
        "print(s,t)\n",
        "if(abs(s-t)<=0.00001):\n",
        "  print('beta and gamma are related')\n",
        "else:\n",
        "    print('given values are wrong')\n",
        "\n",
        "\n"
      ],
      "metadata": {
        "colab": {
          "base_uri": "https://localhost:8080/"
        },
        "id": "txxN8Pluewzf",
        "outputId": "d068b5e8-5434-4fdf-90af-7e568022606e"
      },
      "execution_count": null,
      "outputs": [
        {
          "output_type": "stream",
          "name": "stdout",
          "text": [
            "0.000432900432900433 0.000432900432900433\n",
            "beta and gamma are related\n"
          ]
        }
      ]
    },
    {
      "cell_type": "code",
      "source": [
        "from sympy import *\n",
        "x = symbols('x')\n",
        "g = input('Enter the function ')\n",
        "g = lambdify(x,g)\n",
        "a = float(in)"
      ],
      "metadata": {
        "id": "i6Hu9hOBkX0i",
        "outputId": "794e236c-83b7-49df-f960-350109b72dfa",
        "colab": {
          "base_uri": "https://localhost:8080/",
          "height": 108
        }
      },
      "execution_count": null,
      "outputs": [
        {
          "output_type": "error",
          "ename": "SyntaxError",
          "evalue": "invalid syntax (<ipython-input-1-1f91ad222ce0>, line 5)",
          "traceback": [
            "\u001b[0;36m  File \u001b[0;32m\"<ipython-input-1-1f91ad222ce0>\"\u001b[0;36m, line \u001b[0;32m5\u001b[0m\n\u001b[0;31m    a = float(in)\u001b[0m\n\u001b[0m              ^\u001b[0m\n\u001b[0;31mSyntaxError\u001b[0m\u001b[0;31m:\u001b[0m invalid syntax\n"
          ]
        }
      ]
    }
  ]
}